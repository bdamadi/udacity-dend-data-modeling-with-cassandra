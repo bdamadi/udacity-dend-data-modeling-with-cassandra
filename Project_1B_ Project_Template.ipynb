{
 "cells": [
  {
   "cell_type": "markdown",
   "metadata": {},
   "source": [
    "# Part I. ETL Pipeline for Pre-Processing the Files"
   ]
  },
  {
   "cell_type": "markdown",
   "metadata": {},
   "source": [
    "## PLEASE RUN THE FOLLOWING CODE FOR PRE-PROCESSING THE FILES"
   ]
  },
  {
   "cell_type": "markdown",
   "metadata": {},
   "source": [
    "#### Import Python packages "
   ]
  },
  {
   "cell_type": "code",
   "execution_count": 1,
   "metadata": {},
   "outputs": [],
   "source": [
    "# Import Python packages \n",
    "import pandas as pd\n",
    "import cassandra\n",
    "import re\n",
    "import os\n",
    "import glob\n",
    "import numpy as np\n",
    "import json\n",
    "import csv"
   ]
  },
  {
   "cell_type": "markdown",
   "metadata": {},
   "source": [
    "#### Creating list of filepaths to process original event csv data files"
   ]
  },
  {
   "cell_type": "code",
   "execution_count": 2,
   "metadata": {},
   "outputs": [
    {
     "name": "stdout",
     "output_type": "stream",
     "text": [
      "/Users/admin/Documents/projects/Sami222/Data Engineering Nanodegree Program/Data Modeling with Postgres/project2\n",
      "['/Users/admin/Documents/projects/Sami222/Data Engineering Nanodegree Program/Data Modeling with Postgres/project2/event_data/2018-11-01-events.csv', '/Users/admin/Documents/projects/Sami222/Data Engineering Nanodegree Program/Data Modeling with Postgres/project2/event_data/2018-11-02-events.csv', '/Users/admin/Documents/projects/Sami222/Data Engineering Nanodegree Program/Data Modeling with Postgres/project2/event_data/2018-11-03-events.csv', '/Users/admin/Documents/projects/Sami222/Data Engineering Nanodegree Program/Data Modeling with Postgres/project2/event_data/2018-11-04-events.csv', '/Users/admin/Documents/projects/Sami222/Data Engineering Nanodegree Program/Data Modeling with Postgres/project2/event_data/2018-11-05-events.csv', '/Users/admin/Documents/projects/Sami222/Data Engineering Nanodegree Program/Data Modeling with Postgres/project2/event_data/2018-11-06-events.csv', '/Users/admin/Documents/projects/Sami222/Data Engineering Nanodegree Program/Data Modeling with Postgres/project2/event_data/2018-11-07-events.csv', '/Users/admin/Documents/projects/Sami222/Data Engineering Nanodegree Program/Data Modeling with Postgres/project2/event_data/2018-11-08-events.csv', '/Users/admin/Documents/projects/Sami222/Data Engineering Nanodegree Program/Data Modeling with Postgres/project2/event_data/2018-11-09-events.csv', '/Users/admin/Documents/projects/Sami222/Data Engineering Nanodegree Program/Data Modeling with Postgres/project2/event_data/2018-11-10-events.csv', '/Users/admin/Documents/projects/Sami222/Data Engineering Nanodegree Program/Data Modeling with Postgres/project2/event_data/2018-11-11-events.csv', '/Users/admin/Documents/projects/Sami222/Data Engineering Nanodegree Program/Data Modeling with Postgres/project2/event_data/2018-11-12-events.csv', '/Users/admin/Documents/projects/Sami222/Data Engineering Nanodegree Program/Data Modeling with Postgres/project2/event_data/2018-11-13-events.csv', '/Users/admin/Documents/projects/Sami222/Data Engineering Nanodegree Program/Data Modeling with Postgres/project2/event_data/2018-11-14-events.csv', '/Users/admin/Documents/projects/Sami222/Data Engineering Nanodegree Program/Data Modeling with Postgres/project2/event_data/2018-11-15-events.csv', '/Users/admin/Documents/projects/Sami222/Data Engineering Nanodegree Program/Data Modeling with Postgres/project2/event_data/2018-11-16-events.csv', '/Users/admin/Documents/projects/Sami222/Data Engineering Nanodegree Program/Data Modeling with Postgres/project2/event_data/2018-11-17-events.csv', '/Users/admin/Documents/projects/Sami222/Data Engineering Nanodegree Program/Data Modeling with Postgres/project2/event_data/2018-11-18-events.csv', '/Users/admin/Documents/projects/Sami222/Data Engineering Nanodegree Program/Data Modeling with Postgres/project2/event_data/2018-11-19-events.csv', '/Users/admin/Documents/projects/Sami222/Data Engineering Nanodegree Program/Data Modeling with Postgres/project2/event_data/2018-11-20-events.csv', '/Users/admin/Documents/projects/Sami222/Data Engineering Nanodegree Program/Data Modeling with Postgres/project2/event_data/2018-11-21-events.csv', '/Users/admin/Documents/projects/Sami222/Data Engineering Nanodegree Program/Data Modeling with Postgres/project2/event_data/2018-11-22-events.csv', '/Users/admin/Documents/projects/Sami222/Data Engineering Nanodegree Program/Data Modeling with Postgres/project2/event_data/2018-11-23-events.csv', '/Users/admin/Documents/projects/Sami222/Data Engineering Nanodegree Program/Data Modeling with Postgres/project2/event_data/2018-11-24-events.csv', '/Users/admin/Documents/projects/Sami222/Data Engineering Nanodegree Program/Data Modeling with Postgres/project2/event_data/2018-11-25-events.csv', '/Users/admin/Documents/projects/Sami222/Data Engineering Nanodegree Program/Data Modeling with Postgres/project2/event_data/2018-11-26-events.csv', '/Users/admin/Documents/projects/Sami222/Data Engineering Nanodegree Program/Data Modeling with Postgres/project2/event_data/2018-11-27-events.csv', '/Users/admin/Documents/projects/Sami222/Data Engineering Nanodegree Program/Data Modeling with Postgres/project2/event_data/2018-11-28-events.csv', '/Users/admin/Documents/projects/Sami222/Data Engineering Nanodegree Program/Data Modeling with Postgres/project2/event_data/2018-11-29-events.csv', '/Users/admin/Documents/projects/Sami222/Data Engineering Nanodegree Program/Data Modeling with Postgres/project2/event_data/2018-11-30-events.csv']\n"
     ]
    }
   ],
   "source": [
    "# checking the current working directory\n",
    "print(os.getcwd())\n",
    "\n",
    "# Get the current folder and subfolder event data\n",
    "filepath = os.getcwd() + '/event_data'\n",
    "\n",
    "# Get list of files in the event data folder using glob\n",
    "file_path_list = glob.glob(os.path.join(filepath,'*'))\n",
    "\n",
    "print(file_path_list)   "
   ]
  },
  {
   "cell_type": "markdown",
   "metadata": {},
   "source": [
    "#### Processing the files to create the data file csv that will be used for Apache Casssandra tables"
   ]
  },
  {
   "cell_type": "code",
   "execution_count": 3,
   "metadata": {},
   "outputs": [],
   "source": [
    "# initiating an empty list of rows that will be generated from each file\n",
    "full_data_rows_list = [] \n",
    "    \n",
    "# for every filepath in the file path list \n",
    "for f in file_path_list:\n",
    "\n",
    "# reading csv file \n",
    "    with open(f, 'r', encoding = 'utf8', newline='') as csvfile: \n",
    "        # creating a csv reader object \n",
    "        csvreader = csv.reader(csvfile) \n",
    "        next(csvreader)\n",
    "        \n",
    " # extracting each data row one by one and append it        \n",
    "        for line in csvreader:\n",
    "            #print(line)\n",
    "            full_data_rows_list.append(line) \n",
    "            \n",
    "# uncomment the code below to get total number of rows \n",
    "#print(len(full_data_rows_list))\n",
    "# uncomment the code below to check to see what the list of event data rows will look like\n",
    "#print(full_data_rows_list)\n",
    "\n",
    "# creating a smaller event data csv file called event_datafile_full csv that will be used to insert data into the \\\n",
    "# Apache Cassandra tables\n",
    "csv.register_dialect('myDialect', quoting=csv.QUOTE_ALL, skipinitialspace=True)\n",
    "\n",
    "with open('event_datafile_new.csv', 'w', encoding = 'utf8', newline='') as f:\n",
    "    writer = csv.writer(f, dialect='myDialect')\n",
    "    writer.writerow(['artist','firstName','gender','itemInSession','lastName','length',\\\n",
    "                'level','location','sessionId','song','userId'])\n",
    "    for row in full_data_rows_list:\n",
    "        if (row[0] == ''):\n",
    "            continue\n",
    "        writer.writerow((row[0], row[2], row[3], row[4], row[5], row[6], row[7], row[8], row[12], row[13], row[16]))\n"
   ]
  },
  {
   "cell_type": "code",
   "execution_count": 4,
   "metadata": {},
   "outputs": [
    {
     "name": "stdout",
     "output_type": "stream",
     "text": [
      "6821\n"
     ]
    }
   ],
   "source": [
    "# check the number of rows in your csv file\n",
    "with open('event_datafile_new.csv', 'r', encoding = 'utf8') as f:\n",
    "    print(sum(1 for line in f))"
   ]
  },
  {
   "cell_type": "markdown",
   "metadata": {},
   "source": [
    "# Part II. Complete the Apache Cassandra coding portion of your project. \n",
    "\n",
    "## Now you are ready to work with the CSV file titled <font color=red>event_datafile_new.csv</font>, located within the Workspace directory.  The event_datafile_new.csv contains the following columns: \n",
    "- artist \n",
    "- firstName of user\n",
    "- gender of user\n",
    "- item number in session\n",
    "- last name of user\n",
    "- length of the song\n",
    "- level (paid or free song)\n",
    "- location of the user\n",
    "- sessionId\n",
    "- song title\n",
    "- userId\n",
    "\n",
    "The image below is a screenshot of what the denormalized data should appear like in the <font color=red>**event_datafile_new.csv**</font> after the code above is run:<br>\n",
    "\n",
    "<img src=\"images/image_event_datafile_new.jpg\">"
   ]
  },
  {
   "cell_type": "markdown",
   "metadata": {},
   "source": [
    "## Begin writing your Apache Cassandra code in the cells below"
   ]
  },
  {
   "cell_type": "markdown",
   "metadata": {},
   "source": [
    "#### Creating a Cluster"
   ]
  },
  {
   "cell_type": "code",
   "execution_count": 5,
   "metadata": {},
   "outputs": [],
   "source": [
    "# This should make a connection to a Cassandra instance your local machine \n",
    "# (127.0.0.1)\n",
    "\n",
    "from cassandra.cluster import Cluster\n",
    "cluster = Cluster()\n",
    "\n",
    "# To establish connection and begin executing queries, need a session\n",
    "session = cluster.connect()"
   ]
  },
  {
   "cell_type": "markdown",
   "metadata": {},
   "source": [
    "#### Create Keyspace"
   ]
  },
  {
   "cell_type": "code",
   "execution_count": 6,
   "metadata": {},
   "outputs": [],
   "source": [
    "# Create a Keyspace\n",
    "try:\n",
    "    session.execute(\"\"\"\n",
    "    CREATE KEYSPACE IF NOT EXISTS udacity \n",
    "    WITH REPLICATION = \n",
    "    { 'class' : 'SimpleStrategy', 'replication_factor' : 1 }\"\"\"\n",
    ")\n",
    "\n",
    "except Exception as e:\n",
    "    print(e)"
   ]
  },
  {
   "cell_type": "markdown",
   "metadata": {},
   "source": [
    "#### Set Keyspace"
   ]
  },
  {
   "cell_type": "code",
   "execution_count": 7,
   "metadata": {},
   "outputs": [],
   "source": [
    "# Set KEYSPACE to the keyspace specified above\n",
    "try:\n",
    "    session.set_keyspace('udacity')\n",
    "except Exception as e:\n",
    "    print(e)"
   ]
  },
  {
   "cell_type": "markdown",
   "metadata": {},
   "source": [
    "### Now we need to create tables to run the following queries. Remember, with Apache Cassandra you model the database tables on the queries you want to run."
   ]
  },
  {
   "cell_type": "markdown",
   "metadata": {},
   "source": [
    "## Create queries to ask the following three questions of the data\n",
    "\n",
    "### 1. Give me the artist, song title and song's length in the music app history that was heard during  sessionId = 338, and itemInSession  = 4\n",
    "\n",
    "\n",
    "### 2. Give me only the following: name of artist, song (sorted by itemInSession) and user (first and last name) for userid = 10, sessionid = 182\n",
    "    \n",
    "\n",
    "### 3. Give me every user name (first and last) in my music app history who listened to the song 'All Hands Against His Own'"
   ]
  },
  {
   "cell_type": "markdown",
   "metadata": {},
   "source": [
    "### Query 1 Description\n",
    "\n",
    "I named the table created for this query `song_history` to reflect the data modelled in this table that is the history of heard songs per session.\n",
    "\n",
    "In this query, I used `sessionId` as the partition key and `itemInSession` as clustering key.  Each partition is uniquely identified by `sessionId` while `itemInSession` was used to uniquely identify the rows within a partition to sort the data by the value of 4."
   ]
  },
  {
   "cell_type": "code",
   "execution_count": 8,
   "metadata": {},
   "outputs": [],
   "source": [
    "## Query 1:  Give me the artist, song title and song's length in the music app history that was heard during \\\n",
    "## sessionId = 338, and itemInSession = 4\n",
    "\n",
    "# Create table for Query 1\n",
    "# The data modelled in this table is the history of heard songs per session.\n",
    "#\n",
    "# This table contains data columns required for query 1, including:\n",
    "#   artist, song, length, sessionId, and itemInSession. \n",
    "#\n",
    "# The primary key is composed of sessionId as partition key, and itemInSession as clustering column. \n",
    "# Although multiple songs may be heard in one session, the combination of sessionId and itemInSession would \n",
    "# uniquely identify each heard song because only one song is heard at a time.\n",
    "query = \"\"\"CREATE TABLE IF NOT EXISTS song_history (\n",
    "    sessionId INT, \n",
    "    itemInSession INT,\n",
    "    artist TEXT,\n",
    "    song TEXT,\n",
    "    length FLOAT,\n",
    "    PRIMARY KEY (sessionId, itemInSession)\n",
    ")\n",
    "\"\"\"\n",
    "try:\n",
    "    session.execute(query)\n",
    "except Exception as e:\n",
    "    print(e)"
   ]
  },
  {
   "cell_type": "code",
   "execution_count": 9,
   "metadata": {},
   "outputs": [],
   "source": [
    "# Read the collected event data file to insert data into table song_history for answering query 1\n",
    "file = 'event_datafile_new.csv'\n",
    "\n",
    "with open(file, encoding = 'utf8') as f:\n",
    "    csvreader = csv.reader(f)\n",
    "    next(csvreader) # skip header\n",
    "    for line in csvreader:\n",
    "        ## Query to insert data into song_history table\n",
    "        query = \"INSERT INTO song_history (sessionId, itemInSession, artist, song, length)\"\n",
    "        query = query + \" VALUES (%s, %s, %s, %s, %s)\"\n",
    "        \n",
    "        # Choose sessionId (col#8), itemInSession (col#3), artist (col#0), song (col#9), and length (col#5).\n",
    "        # Also convert string into int or float to match with column's data type.\n",
    "        session.execute(query, (int(line[8]), int(line[3]), line[0], line[9], float(line[5])))"
   ]
  },
  {
   "cell_type": "markdown",
   "metadata": {},
   "source": [
    "#### Do a SELECT to verify that the data have been inserted into each table"
   ]
  },
  {
   "cell_type": "code",
   "execution_count": 10,
   "metadata": {
    "scrolled": true
   },
   "outputs": [
    {
     "name": "stdout",
     "output_type": "stream",
     "text": [
      "Row(artist='Faithless', song='Music Matters (Mark Knight Dub)', length=495.30731201171875)\n"
     ]
    }
   ],
   "source": [
    "# Now run Query 1 to verify the data was entered into the table\n",
    "query = \"SELECT artist, song, length FROM song_history WHERE sessionId=338 AND itemInSession=4\"\n",
    "try:\n",
    "    rows = session.execute(query)\n",
    "except Exception as e:\n",
    "    print(e)\n",
    "\n",
    "# Print the query result\n",
    "for row in rows:\n",
    "    print(row)"
   ]
  },
  {
   "cell_type": "markdown",
   "metadata": {},
   "source": [
    "### Query 2 Description\n",
    "\n",
    "I named the table created for this query `user_history` to reflect the data modelled in this table that is the history of heard songs per user.\n",
    "\n",
    "In this query, I used `sessionId` and `userId` as the composite partition key and `itemInSession` as clustering key.  Each partition is uniquely identified by the combination of `sessionId` and `userId` while `itemInSession` was used to uniquely identify the rows within a partition to sort user's listened songs in ascending order."
   ]
  },
  {
   "cell_type": "code",
   "execution_count": 11,
   "metadata": {},
   "outputs": [],
   "source": [
    "## Query 2: Give me only the following: name of artist, song (sorted by itemInSession) and user (first and last name)\\\n",
    "## for userid = 10, sessionid = 182\n",
    "\n",
    "# Create table for Query 2\n",
    "# The data modelled in this table is the history of heard songs per user.\n",
    "#\n",
    "# This table contains data columns required for query 2, including:\n",
    "#   artist, song, itemInSession, firstName, lastName, userId, and sessionId. \n",
    "#\n",
    "# The primary key is composed of a composite partition key (userId, sessionId) and itemInSession as clustering columns.\n",
    "# Although userId and sessionId were used in WHERE clause of Query2, including itemInSession in clustering columns\n",
    "# help to sort the result (heard songs) by itemInSession.\n",
    "query = \"\"\"CREATE TABLE IF NOT EXISTS user_history (\n",
    "    userId INT,\n",
    "    sessionId INT, \n",
    "    itemInSession INT,\n",
    "    firstName TEXT,\n",
    "    lastName TEXT,\n",
    "    artist TEXT,\n",
    "    song TEXT,\n",
    "    PRIMARY KEY ((userId, sessionId), itemInSession)\n",
    ")\n",
    "\"\"\"\n",
    "try:\n",
    "    session.execute(query)\n",
    "except Exception as e:\n",
    "    print(e)"
   ]
  },
  {
   "cell_type": "code",
   "execution_count": 12,
   "metadata": {},
   "outputs": [],
   "source": [
    "# Read the collected event data file to insert data into table user_history for answering query 2\n",
    "file = 'event_datafile_new.csv'\n",
    "\n",
    "with open(file, encoding = 'utf8') as f:\n",
    "    csvreader = csv.reader(f)\n",
    "    next(csvreader) # skip header\n",
    "    for line in csvreader:\n",
    "        ## Query to insert data into user_history table\n",
    "        query = \"INSERT INTO user_history (userId, sessionId, itemInSession, artist, song, firstName, lastName)\"\n",
    "        query = query + \" VALUES (%s, %s, %s, %s, %s, %s, %s)\"\n",
    "\n",
    "        # Choose userId (col#10), sessionId (col#8), itemInSession (col#3), artist (col#0), song (col#9), \n",
    "        # firstName (col#1) and lastName (col#4).\n",
    "        # Also convert string into int or float to match with column's data type.\n",
    "        session.execute(query, (int(line[10]), int(line[8]), int(line[3]), line[0], line[9], line[1], line[4]))"
   ]
  },
  {
   "cell_type": "code",
   "execution_count": 13,
   "metadata": {},
   "outputs": [
    {
     "name": "stdout",
     "output_type": "stream",
     "text": [
      "Row(artist='Down To The Bone', song=\"Keep On Keepin' On\", iteminsession=0, firstname='Sylvie', lastname='Cruz')\n",
      "Row(artist='Three Drives', song='Greece 2000', iteminsession=1, firstname='Sylvie', lastname='Cruz')\n",
      "Row(artist='Sebastien Tellier', song='Kilometer', iteminsession=2, firstname='Sylvie', lastname='Cruz')\n",
      "Row(artist='Lonnie Gordon', song='Catch You Baby (Steve Pitron & Max Sanna Radio Edit)', iteminsession=3, firstname='Sylvie', lastname='Cruz')\n"
     ]
    }
   ],
   "source": [
    "# Now run Query 2 to verify the data was entered into the table.\n",
    "# Note: itemInSession is not required in show the result, including this column to verify that the result is sorted\n",
    "# as Query 2's requirement.\n",
    "query = \"SELECT artist, song, itemInSession, firstName, lastName FROM user_history WHERE userId=10 AND sessionId=182\"\n",
    "try:\n",
    "    rows = session.execute(query)\n",
    "except Exception as e:\n",
    "    print(e)\n",
    "\n",
    "for row in rows:\n",
    "    print(row)"
   ]
  },
  {
   "cell_type": "markdown",
   "metadata": {},
   "source": [
    "### Query 3 Description\n",
    "\n",
    "I named the table created for this query `users_by_song` to reflect the data modelled in this table that is the history of who were listening which song.\n",
    "\n",
    "In this query, I used `song` as the partition key and `userId` as clustering key. Each partition is uniquely identified `song` while `userId` was used to uniquely identify the rows within a partition to sort users listened to the song."
   ]
  },
  {
   "cell_type": "code",
   "execution_count": 14,
   "metadata": {},
   "outputs": [],
   "source": [
    "## Query 3: Give me every user name (first and last) in my music app history who listened to the song 'All Hands Against His Own'\n",
    "\n",
    "# Create table for Query 3\n",
    "# The data modelled in this table is the history of who were listening which song.\n",
    "#\n",
    "# This table contains data columns required for query 3, including:\n",
    "#   song, sessionId, firstName, and lastName. \n",
    "#\n",
    "# The primary key is composed of song as partition key with userId as clustering column.\n",
    "# In the sake of modeling users listening per song, song title and userId would uniquely identify each row.\n",
    "query = \"\"\"CREATE TABLE IF NOT EXISTS users_by_song (\n",
    "    song TEXT,\n",
    "    userId INT,\n",
    "    firstName TEXT,\n",
    "    lastName TEXT,\n",
    "    PRIMARY KEY (song, userId)\n",
    ")\n",
    "\"\"\"\n",
    "try:\n",
    "    session.execute(query)\n",
    "except Exception as e:\n",
    "    print(e)            "
   ]
  },
  {
   "cell_type": "code",
   "execution_count": 15,
   "metadata": {},
   "outputs": [],
   "source": [
    "# Read the collected event data file to insert data into table users_by_song for answering query 3\n",
    "file = 'event_datafile_new.csv'\n",
    "\n",
    "with open(file, encoding = 'utf8') as f:\n",
    "    csvreader = csv.reader(f)\n",
    "    next(csvreader) # skip header\n",
    "    for line in csvreader:\n",
    "        ## Query to insert data into users_by_song table\n",
    "        query = \"INSERT INTO users_by_song (song, userId, firstName, lastName)\"\n",
    "        query = query + \" VALUES (%s, %s, %s, %s)\"\n",
    "\n",
    "        # Choose song (col#9), userId (col#10), firstName (col#1) and lastName (col#4).\n",
    "        # Also convert string into int or float to match with column's data type.\n",
    "        values = (line[9], int(line[10]), line[1], line[4])\n",
    "        #print(values)\n",
    "        session.execute(query, values)"
   ]
  },
  {
   "cell_type": "code",
   "execution_count": 16,
   "metadata": {},
   "outputs": [
    {
     "name": "stdout",
     "output_type": "stream",
     "text": [
      "Row(firstname='Jacqueline', lastname='Lynch')\n",
      "Row(firstname='Tegan', lastname='Levine')\n",
      "Row(firstname='Sara', lastname='Johnson')\n"
     ]
    }
   ],
   "source": [
    "# Now run Query 3 to verify the data was entered into the table.\n",
    "query = \"SELECT firstName, lastName FROM users_by_song WHERE song='All Hands Against His Own'\"\n",
    "try:\n",
    "    rows = session.execute(query)\n",
    "except Exception as e:\n",
    "    print(e)\n",
    "\n",
    "for row in rows:\n",
    "    print(row)"
   ]
  },
  {
   "cell_type": "markdown",
   "metadata": {},
   "source": [
    "### Drop the tables before closing out the sessions"
   ]
  },
  {
   "cell_type": "code",
   "execution_count": 17,
   "metadata": {},
   "outputs": [],
   "source": [
    "## Drop the table before closing out the sessions\n",
    "try:\n",
    "    session.execute(\"DROP TABLE song_history\")\n",
    "except Exception as e:\n",
    "    print(e)"
   ]
  },
  {
   "cell_type": "code",
   "execution_count": 18,
   "metadata": {},
   "outputs": [],
   "source": [
    "try:\n",
    "    session.execute(\"DROP TABLE user_history\")\n",
    "except Exception as e:\n",
    "    print(e)\n"
   ]
  },
  {
   "cell_type": "code",
   "execution_count": 19,
   "metadata": {},
   "outputs": [],
   "source": [
    "try:\n",
    "    session.execute(\"DROP TABLE users_by_song\")\n",
    "except Exception as e:\n",
    "    print(e)"
   ]
  },
  {
   "cell_type": "markdown",
   "metadata": {},
   "source": [
    "### Close the session and cluster connection¶"
   ]
  },
  {
   "cell_type": "code",
   "execution_count": 20,
   "metadata": {},
   "outputs": [],
   "source": [
    "session.shutdown()\n",
    "cluster.shutdown()"
   ]
  },
  {
   "cell_type": "code",
   "execution_count": null,
   "metadata": {},
   "outputs": [],
   "source": []
  },
  {
   "cell_type": "code",
   "execution_count": null,
   "metadata": {},
   "outputs": [],
   "source": []
  }
 ],
 "metadata": {
  "kernelspec": {
   "display_name": "Python 3",
   "language": "python",
   "name": "python3"
  },
  "language_info": {
   "codemirror_mode": {
    "name": "ipython",
    "version": 3
   },
   "file_extension": ".py",
   "mimetype": "text/x-python",
   "name": "python",
   "nbconvert_exporter": "python",
   "pygments_lexer": "ipython3",
   "version": "3.7.1"
  }
 },
 "nbformat": 4,
 "nbformat_minor": 4
}
